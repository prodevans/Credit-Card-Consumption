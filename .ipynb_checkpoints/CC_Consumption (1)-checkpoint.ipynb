{
 "cells": [
  {
   "cell_type": "markdown",
   "metadata": {
    "colab_type": "text",
    "id": "Dgw48cvFpP_2"
   },
   "source": [
    "# Predict Credit Card Consumption\n",
    "\n",
    "**Understanding the consumption pattern for credit cards at an individual consumer level is important for customer relationship management. This understanding allows banks to customize for consumers and make strategic marketing plans. Thus it is imperative to study the relationship between the characteristics of the consumers and their consumption patterns.   XYZ Bank has given a sample of their customers, along with their details like age, gender and other demographics. Also shared are information on liabilities, assets and history of transactions with the bank for each customer.   In addition to the above, data has been provided for a particular set of customers' credit card spend in the previous 3 months (April, May & June) and their expected average spend in the coming 3 months (July, August & September). Predict the average spend for a different set of customers in the test set for the coming 3 months.**"
   ]
  },
  {
   "cell_type": "markdown",
   "metadata": {
    "colab_type": "text",
    "id": "fRoOE3stphHD"
   },
   "source": [
    "## Objective :\n",
    "\n",
    "\n",
    "#### Predict the average spend for a different set of customers in the test set for the coming 3 months\n",
    "\n",
    "* ##### data has been provided for a particular set of customers' credit card spend in the previous 3 months (April, May & June) and their expected average spend in the coming 3 months (July, August & September).\n",
    "\n"
   ]
  },
  {
   "cell_type": "markdown",
   "metadata": {
    "colab_type": "text",
    "id": "vkaIfBOdqIiF"
   },
   "source": [
    "## Evaluation Criteria\n",
    "The average predicted spend of customers for the next three months would be evaluated using 100*RMSLE where RMSLE is Root of Mean Squared Logarithmic Error  \n",
    "\n",
    "## Data\n",
    "#### train_HFhgVok.zip\n",
    "train.zip contains train.csv and data_dictionary.csv.\n",
    "\n",
    "* train.csv contains the training data with details of customers, along with their average credit card spend for the next three months\n",
    "* Data_Dictionary.xlsx contains a brief description of each variable provided in the training and test set.\n",
    " \n",
    "\n",
    "#### test_pqNh56L.csv\n",
    "test.csv contains details of the customers for which the participants need to predict the average spend for the next three months\n",
    "\n",
    "\n",
    "\n",
    "## Variable\tDefinition\n",
    "* id\tUnique ID for the Customer\n",
    "* cc_cons\t(Target) Average Credit Card Spend in next three months\n",
    " \n",
    "\n",
    "\n",
    " "
   ]
  },
  {
   "cell_type": "code",
   "execution_count": 1,
   "metadata": {},
   "outputs": [],
   "source": [
    "# Import all required modules \n",
    "import pandas as pd\n",
    "import seaborn as sns\n",
    "import matplotlib.pyplot as plt\n",
    "import numpy as np\n",
    "import zipfile "
   ]
  },
  {
   "cell_type": "code",
   "execution_count": null,
   "metadata": {},
   "outputs": [],
   "source": []
  },
  {
   "cell_type": "code",
   "execution_count": 2,
   "metadata": {
    "colab": {
     "base_uri": "https://localhost:8080/",
     "height": 34
    },
    "colab_type": "code",
    "id": "kbVv9rnnlvLE",
    "outputId": "bdf64ba6-0d65-4a43-c6e2-1f173083d8ed"
   },
   "outputs": [
    {
     "name": "stdout",
     "output_type": "stream",
     "text": [
      "['Data_Dictionary.xlsx', '__MACOSX/', '__MACOSX/._Data_Dictionary.xlsx', 'train.csv', '__MACOSX/._train.csv']\n"
     ]
    }
   ],
   "source": [
    "\n",
    "with zipfile.ZipFile('train_bFQbE3f.zip','r') as zip_ref:\n",
    "  a=zip_ref.extractall('Data')\n",
    "  print(zip_ref.namelist())"
   ]
  },
  {
   "cell_type": "code",
   "execution_count": 3,
   "metadata": {
    "colab": {
     "base_uri": "https://localhost:8080/",
     "height": 379
    },
    "colab_type": "code",
    "id": "usLniinzljSV",
    "outputId": "f89ab874-084e-44f2-fec7-592e77f09c06"
   },
   "outputs": [
    {
     "data": {
      "text/html": [
       "<div>\n",
       "<style scoped>\n",
       "    .dataframe tbody tr th:only-of-type {\n",
       "        vertical-align: middle;\n",
       "    }\n",
       "\n",
       "    .dataframe tbody tr th {\n",
       "        vertical-align: top;\n",
       "    }\n",
       "\n",
       "    .dataframe thead th {\n",
       "        text-align: right;\n",
       "    }\n",
       "</style>\n",
       "<table border=\"1\" class=\"dataframe\">\n",
       "  <thead>\n",
       "    <tr style=\"text-align: right;\">\n",
       "      <th></th>\n",
       "      <th>id</th>\n",
       "      <th>account_type</th>\n",
       "      <th>gender</th>\n",
       "      <th>age</th>\n",
       "      <th>region_code</th>\n",
       "      <th>cc_cons_apr</th>\n",
       "      <th>dc_cons_apr</th>\n",
       "      <th>cc_cons_may</th>\n",
       "      <th>dc_cons_may</th>\n",
       "      <th>cc_cons_jun</th>\n",
       "      <th>...</th>\n",
       "      <th>debit_count_may</th>\n",
       "      <th>max_credit_amount_may</th>\n",
       "      <th>debit_amount_jun</th>\n",
       "      <th>credit_amount_jun</th>\n",
       "      <th>credit_count_jun</th>\n",
       "      <th>debit_count_jun</th>\n",
       "      <th>max_credit_amount_jun</th>\n",
       "      <th>loan_enq</th>\n",
       "      <th>emi_active</th>\n",
       "      <th>cc_cons</th>\n",
       "    </tr>\n",
       "  </thead>\n",
       "  <tbody>\n",
       "    <tr>\n",
       "      <th>0</th>\n",
       "      <td>23334</td>\n",
       "      <td>saving</td>\n",
       "      <td>M</td>\n",
       "      <td>63</td>\n",
       "      <td>305</td>\n",
       "      <td>7695.00</td>\n",
       "      <td>NaN</td>\n",
       "      <td>479.00</td>\n",
       "      <td>NaN</td>\n",
       "      <td>622.00</td>\n",
       "      <td>...</td>\n",
       "      <td>2.0</td>\n",
       "      <td>45000.0</td>\n",
       "      <td>20215.85</td>\n",
       "      <td>1279.37</td>\n",
       "      <td>7.0</td>\n",
       "      <td>3.0</td>\n",
       "      <td>470.0</td>\n",
       "      <td>NaN</td>\n",
       "      <td>0.00</td>\n",
       "      <td>435</td>\n",
       "    </tr>\n",
       "    <tr>\n",
       "      <th>1</th>\n",
       "      <td>20329</td>\n",
       "      <td>current</td>\n",
       "      <td>M</td>\n",
       "      <td>33</td>\n",
       "      <td>326</td>\n",
       "      <td>52702.00</td>\n",
       "      <td>988.72</td>\n",
       "      <td>29873.00</td>\n",
       "      <td>NaN</td>\n",
       "      <td>1087.00</td>\n",
       "      <td>...</td>\n",
       "      <td>10.0</td>\n",
       "      <td>150000.0</td>\n",
       "      <td>122037.66</td>\n",
       "      <td>55390.00</td>\n",
       "      <td>8.0</td>\n",
       "      <td>19.0</td>\n",
       "      <td>27000.0</td>\n",
       "      <td>NaN</td>\n",
       "      <td>4963.33</td>\n",
       "      <td>1921</td>\n",
       "    </tr>\n",
       "    <tr>\n",
       "      <th>2</th>\n",
       "      <td>17679</td>\n",
       "      <td>current</td>\n",
       "      <td>M</td>\n",
       "      <td>44</td>\n",
       "      <td>264</td>\n",
       "      <td>10800.49</td>\n",
       "      <td>3215.52</td>\n",
       "      <td>21659.64</td>\n",
       "      <td>1607.0</td>\n",
       "      <td>1168.00</td>\n",
       "      <td>...</td>\n",
       "      <td>7.0</td>\n",
       "      <td>13800.0</td>\n",
       "      <td>46827.00</td>\n",
       "      <td>29297.91</td>\n",
       "      <td>6.0</td>\n",
       "      <td>19.0</td>\n",
       "      <td>20800.0</td>\n",
       "      <td>NaN</td>\n",
       "      <td>0.00</td>\n",
       "      <td>1970</td>\n",
       "    </tr>\n",
       "    <tr>\n",
       "      <th>3</th>\n",
       "      <td>16428</td>\n",
       "      <td>saving</td>\n",
       "      <td>M</td>\n",
       "      <td>44</td>\n",
       "      <td>233</td>\n",
       "      <td>20936.00</td>\n",
       "      <td>NaN</td>\n",
       "      <td>2094.00</td>\n",
       "      <td>NaN</td>\n",
       "      <td>11778.50</td>\n",
       "      <td>...</td>\n",
       "      <td>1.0</td>\n",
       "      <td>19300.0</td>\n",
       "      <td>5426.55</td>\n",
       "      <td>7544.00</td>\n",
       "      <td>3.0</td>\n",
       "      <td>1.0</td>\n",
       "      <td>5300.0</td>\n",
       "      <td>NaN</td>\n",
       "      <td>1238.18</td>\n",
       "      <td>21579</td>\n",
       "    </tr>\n",
       "    <tr>\n",
       "      <th>4</th>\n",
       "      <td>18721</td>\n",
       "      <td>saving</td>\n",
       "      <td>F</td>\n",
       "      <td>35</td>\n",
       "      <td>324</td>\n",
       "      <td>1183.83</td>\n",
       "      <td>NaN</td>\n",
       "      <td>3656.29</td>\n",
       "      <td>NaN</td>\n",
       "      <td>945.00</td>\n",
       "      <td>...</td>\n",
       "      <td>3.0</td>\n",
       "      <td>3000.0</td>\n",
       "      <td>26178.05</td>\n",
       "      <td>53483.00</td>\n",
       "      <td>4.0</td>\n",
       "      <td>4.0</td>\n",
       "      <td>45000.0</td>\n",
       "      <td>NaN</td>\n",
       "      <td>0.00</td>\n",
       "      <td>1814</td>\n",
       "    </tr>\n",
       "    <tr>\n",
       "      <th>5</th>\n",
       "      <td>4340</td>\n",
       "      <td>current</td>\n",
       "      <td>M</td>\n",
       "      <td>26</td>\n",
       "      <td>233</td>\n",
       "      <td>53819.88</td>\n",
       "      <td>1371.00</td>\n",
       "      <td>4712.92</td>\n",
       "      <td>2220.0</td>\n",
       "      <td>1048.00</td>\n",
       "      <td>...</td>\n",
       "      <td>22.0</td>\n",
       "      <td>20603.0</td>\n",
       "      <td>31189.26</td>\n",
       "      <td>33183.13</td>\n",
       "      <td>7.0</td>\n",
       "      <td>31.0</td>\n",
       "      <td>20890.0</td>\n",
       "      <td>NaN</td>\n",
       "      <td>0.00</td>\n",
       "      <td>626</td>\n",
       "    </tr>\n",
       "    <tr>\n",
       "      <th>6</th>\n",
       "      <td>28060</td>\n",
       "      <td>current</td>\n",
       "      <td>F</td>\n",
       "      <td>30</td>\n",
       "      <td>683</td>\n",
       "      <td>1495.00</td>\n",
       "      <td>4237.00</td>\n",
       "      <td>2212.00</td>\n",
       "      <td>5292.0</td>\n",
       "      <td>1964.00</td>\n",
       "      <td>...</td>\n",
       "      <td>24.0</td>\n",
       "      <td>24782.0</td>\n",
       "      <td>27984.33</td>\n",
       "      <td>81517.00</td>\n",
       "      <td>3.0</td>\n",
       "      <td>31.0</td>\n",
       "      <td>50000.0</td>\n",
       "      <td>NaN</td>\n",
       "      <td>0.00</td>\n",
       "      <td>2052</td>\n",
       "    </tr>\n",
       "    <tr>\n",
       "      <th>7</th>\n",
       "      <td>746</td>\n",
       "      <td>current</td>\n",
       "      <td>M</td>\n",
       "      <td>32</td>\n",
       "      <td>892</td>\n",
       "      <td>1847.00</td>\n",
       "      <td>5976.00</td>\n",
       "      <td>1347.80</td>\n",
       "      <td>4112.0</td>\n",
       "      <td>669.00</td>\n",
       "      <td>...</td>\n",
       "      <td>19.0</td>\n",
       "      <td>30281.0</td>\n",
       "      <td>39320.36</td>\n",
       "      <td>34332.00</td>\n",
       "      <td>3.0</td>\n",
       "      <td>23.0</td>\n",
       "      <td>31663.0</td>\n",
       "      <td>NaN</td>\n",
       "      <td>0.00</td>\n",
       "      <td>434</td>\n",
       "    </tr>\n",
       "    <tr>\n",
       "      <th>8</th>\n",
       "      <td>41628</td>\n",
       "      <td>current</td>\n",
       "      <td>M</td>\n",
       "      <td>37</td>\n",
       "      <td>233</td>\n",
       "      <td>9214.92</td>\n",
       "      <td>NaN</td>\n",
       "      <td>95625.88</td>\n",
       "      <td>16423.0</td>\n",
       "      <td>11419.76</td>\n",
       "      <td>...</td>\n",
       "      <td>28.0</td>\n",
       "      <td>51555.0</td>\n",
       "      <td>285663.35</td>\n",
       "      <td>254939.15</td>\n",
       "      <td>25.0</td>\n",
       "      <td>34.0</td>\n",
       "      <td>92800.0</td>\n",
       "      <td>NaN</td>\n",
       "      <td>0.00</td>\n",
       "      <td>10331</td>\n",
       "    </tr>\n",
       "    <tr>\n",
       "      <th>9</th>\n",
       "      <td>16836</td>\n",
       "      <td>saving</td>\n",
       "      <td>M</td>\n",
       "      <td>47</td>\n",
       "      <td>233</td>\n",
       "      <td>9191.31</td>\n",
       "      <td>NaN</td>\n",
       "      <td>8327.55</td>\n",
       "      <td>NaN</td>\n",
       "      <td>14642.00</td>\n",
       "      <td>...</td>\n",
       "      <td>NaN</td>\n",
       "      <td>NaN</td>\n",
       "      <td>NaN</td>\n",
       "      <td>503.00</td>\n",
       "      <td>1.0</td>\n",
       "      <td>0.0</td>\n",
       "      <td>275.0</td>\n",
       "      <td>NaN</td>\n",
       "      <td>0.00</td>\n",
       "      <td>2437</td>\n",
       "    </tr>\n",
       "  </tbody>\n",
       "</table>\n",
       "<p>10 rows × 44 columns</p>\n",
       "</div>"
      ],
      "text/plain": [
       "      id account_type gender  age  region_code  cc_cons_apr  dc_cons_apr  \\\n",
       "0  23334       saving      M   63          305      7695.00          NaN   \n",
       "1  20329      current      M   33          326     52702.00       988.72   \n",
       "2  17679      current      M   44          264     10800.49      3215.52   \n",
       "3  16428       saving      M   44          233     20936.00          NaN   \n",
       "4  18721       saving      F   35          324      1183.83          NaN   \n",
       "5   4340      current      M   26          233     53819.88      1371.00   \n",
       "6  28060      current      F   30          683      1495.00      4237.00   \n",
       "7    746      current      M   32          892      1847.00      5976.00   \n",
       "8  41628      current      M   37          233      9214.92          NaN   \n",
       "9  16836       saving      M   47          233      9191.31          NaN   \n",
       "\n",
       "   cc_cons_may  dc_cons_may  cc_cons_jun   ...     debit_count_may  \\\n",
       "0       479.00          NaN       622.00   ...                 2.0   \n",
       "1     29873.00          NaN      1087.00   ...                10.0   \n",
       "2     21659.64       1607.0      1168.00   ...                 7.0   \n",
       "3      2094.00          NaN     11778.50   ...                 1.0   \n",
       "4      3656.29          NaN       945.00   ...                 3.0   \n",
       "5      4712.92       2220.0      1048.00   ...                22.0   \n",
       "6      2212.00       5292.0      1964.00   ...                24.0   \n",
       "7      1347.80       4112.0       669.00   ...                19.0   \n",
       "8     95625.88      16423.0     11419.76   ...                28.0   \n",
       "9      8327.55          NaN     14642.00   ...                 NaN   \n",
       "\n",
       "   max_credit_amount_may  debit_amount_jun  credit_amount_jun  \\\n",
       "0                45000.0          20215.85            1279.37   \n",
       "1               150000.0         122037.66           55390.00   \n",
       "2                13800.0          46827.00           29297.91   \n",
       "3                19300.0           5426.55            7544.00   \n",
       "4                 3000.0          26178.05           53483.00   \n",
       "5                20603.0          31189.26           33183.13   \n",
       "6                24782.0          27984.33           81517.00   \n",
       "7                30281.0          39320.36           34332.00   \n",
       "8                51555.0         285663.35          254939.15   \n",
       "9                    NaN               NaN             503.00   \n",
       "\n",
       "   credit_count_jun  debit_count_jun  max_credit_amount_jun  loan_enq  \\\n",
       "0               7.0              3.0                  470.0       NaN   \n",
       "1               8.0             19.0                27000.0       NaN   \n",
       "2               6.0             19.0                20800.0       NaN   \n",
       "3               3.0              1.0                 5300.0       NaN   \n",
       "4               4.0              4.0                45000.0       NaN   \n",
       "5               7.0             31.0                20890.0       NaN   \n",
       "6               3.0             31.0                50000.0       NaN   \n",
       "7               3.0             23.0                31663.0       NaN   \n",
       "8              25.0             34.0                92800.0       NaN   \n",
       "9               1.0              0.0                  275.0       NaN   \n",
       "\n",
       "   emi_active  cc_cons  \n",
       "0        0.00      435  \n",
       "1     4963.33     1921  \n",
       "2        0.00     1970  \n",
       "3     1238.18    21579  \n",
       "4        0.00     1814  \n",
       "5        0.00      626  \n",
       "6        0.00     2052  \n",
       "7        0.00      434  \n",
       "8        0.00    10331  \n",
       "9        0.00     2437  \n",
       "\n",
       "[10 rows x 44 columns]"
      ]
     },
     "execution_count": 3,
     "metadata": {},
     "output_type": "execute_result"
    }
   ],
   "source": [
    "\n",
    "file=pd.read_csv('Data/train.csv')\n",
    "file.head(10)"
   ]
  },
  {
   "cell_type": "code",
   "execution_count": 4,
   "metadata": {},
   "outputs": [],
   "source": [
    "#file.isnull().sum()"
   ]
  },
  {
   "cell_type": "code",
   "execution_count": 5,
   "metadata": {},
   "outputs": [],
   "source": [
    "file2=file.loc[:,['id','cc_cons_apr','cc_cons_may','cc_cons_jun','cc_count_apr','cc_count_may','cc_count_jun',\n",
    "                 'card_lim','credit_count_apr','credit_count_may','credit_count_jun',\n",
    "                  'credit_amount_apr','credit_amount_may','credit_amount_jun',\n",
    "                 'max_credit_amount_apr','max_credit_amount_may','max_credit_amount_jun','cc_cons']]"
   ]
  },
  {
   "cell_type": "code",
   "execution_count": 6,
   "metadata": {},
   "outputs": [
    {
     "data": {
      "text/html": [
       "<div>\n",
       "<style scoped>\n",
       "    .dataframe tbody tr th:only-of-type {\n",
       "        vertical-align: middle;\n",
       "    }\n",
       "\n",
       "    .dataframe tbody tr th {\n",
       "        vertical-align: top;\n",
       "    }\n",
       "\n",
       "    .dataframe thead th {\n",
       "        text-align: right;\n",
       "    }\n",
       "</style>\n",
       "<table border=\"1\" class=\"dataframe\">\n",
       "  <thead>\n",
       "    <tr style=\"text-align: right;\">\n",
       "      <th></th>\n",
       "      <th>id</th>\n",
       "      <th>cc_cons_apr</th>\n",
       "      <th>cc_cons_may</th>\n",
       "      <th>cc_cons_jun</th>\n",
       "      <th>cc_count_apr</th>\n",
       "      <th>cc_count_may</th>\n",
       "      <th>cc_count_jun</th>\n",
       "      <th>card_lim</th>\n",
       "      <th>credit_count_apr</th>\n",
       "      <th>credit_count_may</th>\n",
       "      <th>credit_count_jun</th>\n",
       "      <th>credit_amount_apr</th>\n",
       "      <th>credit_amount_may</th>\n",
       "      <th>credit_amount_jun</th>\n",
       "      <th>max_credit_amount_apr</th>\n",
       "      <th>max_credit_amount_may</th>\n",
       "      <th>max_credit_amount_jun</th>\n",
       "      <th>cc_cons</th>\n",
       "    </tr>\n",
       "  </thead>\n",
       "  <tbody>\n",
       "    <tr>\n",
       "      <th>0</th>\n",
       "      <td>23334</td>\n",
       "      <td>7695.00</td>\n",
       "      <td>479.00</td>\n",
       "      <td>622.0</td>\n",
       "      <td>2.0</td>\n",
       "      <td>1.0</td>\n",
       "      <td>3.0</td>\n",
       "      <td>150000.0</td>\n",
       "      <td>1.0</td>\n",
       "      <td>3.0</td>\n",
       "      <td>7.0</td>\n",
       "      <td>50259.0</td>\n",
       "      <td>114252.0</td>\n",
       "      <td>1279.37</td>\n",
       "      <td>50000.0</td>\n",
       "      <td>45000.0</td>\n",
       "      <td>470.0</td>\n",
       "      <td>435</td>\n",
       "    </tr>\n",
       "    <tr>\n",
       "      <th>1</th>\n",
       "      <td>20329</td>\n",
       "      <td>52702.00</td>\n",
       "      <td>29873.00</td>\n",
       "      <td>1087.0</td>\n",
       "      <td>11.0</td>\n",
       "      <td>14.0</td>\n",
       "      <td>11.0</td>\n",
       "      <td>176000.0</td>\n",
       "      <td>9.0</td>\n",
       "      <td>6.0</td>\n",
       "      <td>8.0</td>\n",
       "      <td>169812.0</td>\n",
       "      <td>174606.0</td>\n",
       "      <td>55390.00</td>\n",
       "      <td>70000.0</td>\n",
       "      <td>150000.0</td>\n",
       "      <td>27000.0</td>\n",
       "      <td>1921</td>\n",
       "    </tr>\n",
       "    <tr>\n",
       "      <th>2</th>\n",
       "      <td>17679</td>\n",
       "      <td>10800.49</td>\n",
       "      <td>21659.64</td>\n",
       "      <td>1168.0</td>\n",
       "      <td>6.0</td>\n",
       "      <td>9.0</td>\n",
       "      <td>6.0</td>\n",
       "      <td>65000.0</td>\n",
       "      <td>4.0</td>\n",
       "      <td>2.0</td>\n",
       "      <td>6.0</td>\n",
       "      <td>38942.0</td>\n",
       "      <td>23051.0</td>\n",
       "      <td>29297.91</td>\n",
       "      <td>11700.0</td>\n",
       "      <td>13800.0</td>\n",
       "      <td>20800.0</td>\n",
       "      <td>1970</td>\n",
       "    </tr>\n",
       "    <tr>\n",
       "      <th>3</th>\n",
       "      <td>16428</td>\n",
       "      <td>20936.00</td>\n",
       "      <td>2094.00</td>\n",
       "      <td>11778.5</td>\n",
       "      <td>9.0</td>\n",
       "      <td>6.0</td>\n",
       "      <td>6.0</td>\n",
       "      <td>600000.0</td>\n",
       "      <td>1.0</td>\n",
       "      <td>1.0</td>\n",
       "      <td>3.0</td>\n",
       "      <td>2294.0</td>\n",
       "      <td>19529.0</td>\n",
       "      <td>7544.00</td>\n",
       "      <td>2000.0</td>\n",
       "      <td>19300.0</td>\n",
       "      <td>5300.0</td>\n",
       "      <td>21579</td>\n",
       "    </tr>\n",
       "    <tr>\n",
       "      <th>4</th>\n",
       "      <td>18721</td>\n",
       "      <td>1183.83</td>\n",
       "      <td>3656.29</td>\n",
       "      <td>945.0</td>\n",
       "      <td>2.0</td>\n",
       "      <td>7.0</td>\n",
       "      <td>9.0</td>\n",
       "      <td>100000.0</td>\n",
       "      <td>1.0</td>\n",
       "      <td>2.0</td>\n",
       "      <td>4.0</td>\n",
       "      <td>10271.0</td>\n",
       "      <td>3194.0</td>\n",
       "      <td>53483.00</td>\n",
       "      <td>10000.0</td>\n",
       "      <td>3000.0</td>\n",
       "      <td>45000.0</td>\n",
       "      <td>1814</td>\n",
       "    </tr>\n",
       "  </tbody>\n",
       "</table>\n",
       "</div>"
      ],
      "text/plain": [
       "      id  cc_cons_apr  cc_cons_may  cc_cons_jun  cc_count_apr  cc_count_may  \\\n",
       "0  23334      7695.00       479.00        622.0           2.0           1.0   \n",
       "1  20329     52702.00     29873.00       1087.0          11.0          14.0   \n",
       "2  17679     10800.49     21659.64       1168.0           6.0           9.0   \n",
       "3  16428     20936.00      2094.00      11778.5           9.0           6.0   \n",
       "4  18721      1183.83      3656.29        945.0           2.0           7.0   \n",
       "\n",
       "   cc_count_jun  card_lim  credit_count_apr  credit_count_may  \\\n",
       "0           3.0  150000.0               1.0               3.0   \n",
       "1          11.0  176000.0               9.0               6.0   \n",
       "2           6.0   65000.0               4.0               2.0   \n",
       "3           6.0  600000.0               1.0               1.0   \n",
       "4           9.0  100000.0               1.0               2.0   \n",
       "\n",
       "   credit_count_jun  credit_amount_apr  credit_amount_may  credit_amount_jun  \\\n",
       "0               7.0            50259.0           114252.0            1279.37   \n",
       "1               8.0           169812.0           174606.0           55390.00   \n",
       "2               6.0            38942.0            23051.0           29297.91   \n",
       "3               3.0             2294.0            19529.0            7544.00   \n",
       "4               4.0            10271.0             3194.0           53483.00   \n",
       "\n",
       "   max_credit_amount_apr  max_credit_amount_may  max_credit_amount_jun  \\\n",
       "0                50000.0                45000.0                  470.0   \n",
       "1                70000.0               150000.0                27000.0   \n",
       "2                11700.0                13800.0                20800.0   \n",
       "3                 2000.0                19300.0                 5300.0   \n",
       "4                10000.0                 3000.0                45000.0   \n",
       "\n",
       "   cc_cons  \n",
       "0      435  \n",
       "1     1921  \n",
       "2     1970  \n",
       "3    21579  \n",
       "4     1814  "
      ]
     },
     "execution_count": 6,
     "metadata": {},
     "output_type": "execute_result"
    }
   ],
   "source": [
    "file2.head()"
   ]
  },
  {
   "cell_type": "code",
   "execution_count": 7,
   "metadata": {},
   "outputs": [],
   "source": [
    "file3=file2.loc[:,['id','cc_cons_apr','cc_cons_may','cc_cons_jun','cc_cons']]"
   ]
  },
  {
   "cell_type": "code",
   "execution_count": 8,
   "metadata": {},
   "outputs": [
    {
     "data": {
      "text/plain": [
       "id             0\n",
       "cc_cons_apr    0\n",
       "cc_cons_may    0\n",
       "cc_cons_jun    0\n",
       "cc_cons        0\n",
       "dtype: int64"
      ]
     },
     "execution_count": 8,
     "metadata": {},
     "output_type": "execute_result"
    }
   ],
   "source": [
    "file3.isnull().sum()"
   ]
  },
  {
   "cell_type": "code",
   "execution_count": 9,
   "metadata": {},
   "outputs": [
    {
     "name": "stdout",
     "output_type": "stream",
     "text": [
      "55263.456666666665\n"
     ]
    }
   ],
   "source": [
    "a=file2.iloc[0,[11,12,13]].sum()/3\n",
    "print(a)"
   ]
  },
  {
   "cell_type": "code",
   "execution_count": 10,
   "metadata": {
    "colab": {
     "base_uri": "https://localhost:8080/",
     "height": 238
    },
    "colab_type": "code",
    "id": "mf7hBuNCnBhH",
    "outputId": "5205a833-5561-4974-e547-5ed0ab920632"
   },
   "outputs": [
    {
     "data": {
      "text/plain": [
       "Index(['id', 'account_type', 'gender', 'age', 'region_code', 'cc_cons_apr',\n",
       "       'dc_cons_apr', 'cc_cons_may', 'dc_cons_may', 'cc_cons_jun',\n",
       "       'dc_cons_jun', 'cc_count_apr', 'cc_count_may', 'cc_count_jun',\n",
       "       'dc_count_apr', 'dc_count_may', 'dc_count_jun', 'card_lim',\n",
       "       'personal_loan_active', 'vehicle_loan_active', 'personal_loan_closed',\n",
       "       'vehicle_loan_closed', 'investment_1', 'investment_2', 'investment_3',\n",
       "       'investment_4', 'debit_amount_apr', 'credit_amount_apr',\n",
       "       'debit_count_apr', 'credit_count_apr', 'max_credit_amount_apr',\n",
       "       'debit_amount_may', 'credit_amount_may', 'credit_count_may',\n",
       "       'debit_count_may', 'max_credit_amount_may', 'debit_amount_jun',\n",
       "       'credit_amount_jun', 'credit_count_jun', 'debit_count_jun',\n",
       "       'max_credit_amount_jun', 'loan_enq', 'emi_active', 'cc_cons'],\n",
       "      dtype='object')"
      ]
     },
     "execution_count": 10,
     "metadata": {},
     "output_type": "execute_result"
    }
   ],
   "source": [
    "file.columns"
   ]
  },
  {
   "cell_type": "code",
   "execution_count": 11,
   "metadata": {
    "colab": {
     "base_uri": "https://localhost:8080/",
     "height": 1000
    },
    "colab_type": "code",
    "id": "XY04PfJLnQi_",
    "outputId": "db493d85-862f-4a06-d082-c30ed19fc9e0"
   },
   "outputs": [
    {
     "data": {
      "text/html": [
       "<div>\n",
       "<style scoped>\n",
       "    .dataframe tbody tr th:only-of-type {\n",
       "        vertical-align: middle;\n",
       "    }\n",
       "\n",
       "    .dataframe tbody tr th {\n",
       "        vertical-align: top;\n",
       "    }\n",
       "\n",
       "    .dataframe thead th {\n",
       "        text-align: right;\n",
       "    }\n",
       "</style>\n",
       "<table border=\"1\" class=\"dataframe\">\n",
       "  <thead>\n",
       "    <tr style=\"text-align: right;\">\n",
       "      <th></th>\n",
       "      <th>Variable</th>\n",
       "      <th>Description</th>\n",
       "    </tr>\n",
       "  </thead>\n",
       "  <tbody>\n",
       "    <tr>\n",
       "      <th>0</th>\n",
       "      <td>id</td>\n",
       "      <td>Unique ID for every Customer</td>\n",
       "    </tr>\n",
       "    <tr>\n",
       "      <th>1</th>\n",
       "      <td>account_type</td>\n",
       "      <td>Account Type – current or saving</td>\n",
       "    </tr>\n",
       "    <tr>\n",
       "      <th>2</th>\n",
       "      <td>gender</td>\n",
       "      <td>Gender of customer</td>\n",
       "    </tr>\n",
       "    <tr>\n",
       "      <th>3</th>\n",
       "      <td>age</td>\n",
       "      <td>Age of customer</td>\n",
       "    </tr>\n",
       "    <tr>\n",
       "      <th>4</th>\n",
       "      <td>region_code</td>\n",
       "      <td>Code assigned to region of residence (has order)</td>\n",
       "    </tr>\n",
       "    <tr>\n",
       "      <th>5</th>\n",
       "      <td>cc_cons_apr</td>\n",
       "      <td>Credit card spend in April</td>\n",
       "    </tr>\n",
       "    <tr>\n",
       "      <th>6</th>\n",
       "      <td>dc_cons_apr</td>\n",
       "      <td>Debit card spend in April</td>\n",
       "    </tr>\n",
       "    <tr>\n",
       "      <th>7</th>\n",
       "      <td>cc_cons_may</td>\n",
       "      <td>Credit card spend in May</td>\n",
       "    </tr>\n",
       "    <tr>\n",
       "      <th>8</th>\n",
       "      <td>dc_cons_may</td>\n",
       "      <td>Debit card spend in May</td>\n",
       "    </tr>\n",
       "    <tr>\n",
       "      <th>9</th>\n",
       "      <td>cc_cons_jun</td>\n",
       "      <td>Credit card spend in June</td>\n",
       "    </tr>\n",
       "    <tr>\n",
       "      <th>10</th>\n",
       "      <td>dc_cons_jun</td>\n",
       "      <td>Debit card spend in June</td>\n",
       "    </tr>\n",
       "    <tr>\n",
       "      <th>11</th>\n",
       "      <td>cc_count_apr</td>\n",
       "      <td>Number of credit card transactions in April</td>\n",
       "    </tr>\n",
       "    <tr>\n",
       "      <th>12</th>\n",
       "      <td>cc_count_may</td>\n",
       "      <td>Number of credit card transactions in May</td>\n",
       "    </tr>\n",
       "    <tr>\n",
       "      <th>13</th>\n",
       "      <td>cc_count_jun</td>\n",
       "      <td>Number of credit card transactions in June</td>\n",
       "    </tr>\n",
       "    <tr>\n",
       "      <th>14</th>\n",
       "      <td>dc_count_apr</td>\n",
       "      <td>Number of debit card transactions in April</td>\n",
       "    </tr>\n",
       "    <tr>\n",
       "      <th>15</th>\n",
       "      <td>dc_count_may</td>\n",
       "      <td>Number of debit card transactions in May</td>\n",
       "    </tr>\n",
       "    <tr>\n",
       "      <th>16</th>\n",
       "      <td>dc_count_jun</td>\n",
       "      <td>Number of debit card transactions in June</td>\n",
       "    </tr>\n",
       "    <tr>\n",
       "      <th>17</th>\n",
       "      <td>card_lim</td>\n",
       "      <td>Maximum Credit Card Limit allocated</td>\n",
       "    </tr>\n",
       "    <tr>\n",
       "      <th>18</th>\n",
       "      <td>personal_loan_active</td>\n",
       "      <td>Active personal loan with other bank</td>\n",
       "    </tr>\n",
       "    <tr>\n",
       "      <th>19</th>\n",
       "      <td>vehicle_loan_active</td>\n",
       "      <td>Active Vehicle loan with other bank</td>\n",
       "    </tr>\n",
       "    <tr>\n",
       "      <th>20</th>\n",
       "      <td>personal_loan_closed</td>\n",
       "      <td>Closed personal loan in last 12 months</td>\n",
       "    </tr>\n",
       "    <tr>\n",
       "      <th>21</th>\n",
       "      <td>vehicle_loan_closed</td>\n",
       "      <td>Closed vehicle loan in last 12 months</td>\n",
       "    </tr>\n",
       "    <tr>\n",
       "      <th>22</th>\n",
       "      <td>investment_1</td>\n",
       "      <td>DEMAT investment in june</td>\n",
       "    </tr>\n",
       "    <tr>\n",
       "      <th>23</th>\n",
       "      <td>investment_2</td>\n",
       "      <td>fixed deposit investment in june</td>\n",
       "    </tr>\n",
       "    <tr>\n",
       "      <th>24</th>\n",
       "      <td>investment_3</td>\n",
       "      <td>Life Insurance investment in June</td>\n",
       "    </tr>\n",
       "    <tr>\n",
       "      <th>25</th>\n",
       "      <td>investment_4</td>\n",
       "      <td>General Insurance Investment in June</td>\n",
       "    </tr>\n",
       "    <tr>\n",
       "      <th>26</th>\n",
       "      <td>debit_amount_apr</td>\n",
       "      <td>Total amount debited for April</td>\n",
       "    </tr>\n",
       "    <tr>\n",
       "      <th>27</th>\n",
       "      <td>credit_amount_apr</td>\n",
       "      <td>Total amount credited for April</td>\n",
       "    </tr>\n",
       "    <tr>\n",
       "      <th>28</th>\n",
       "      <td>debit_count_apr</td>\n",
       "      <td>Total number of times amount debited in april</td>\n",
       "    </tr>\n",
       "    <tr>\n",
       "      <th>29</th>\n",
       "      <td>credit_count_apr</td>\n",
       "      <td>Total number of times amount credited in april</td>\n",
       "    </tr>\n",
       "    <tr>\n",
       "      <th>30</th>\n",
       "      <td>max_credit_amount_apr</td>\n",
       "      <td>Maximum amount credited in April</td>\n",
       "    </tr>\n",
       "    <tr>\n",
       "      <th>31</th>\n",
       "      <td>debit_amount_may</td>\n",
       "      <td>Total amount debited for May</td>\n",
       "    </tr>\n",
       "    <tr>\n",
       "      <th>32</th>\n",
       "      <td>credit_amount_may</td>\n",
       "      <td>Total amount credited for May</td>\n",
       "    </tr>\n",
       "    <tr>\n",
       "      <th>33</th>\n",
       "      <td>credit_count_may</td>\n",
       "      <td>Total number of times amount credited in May</td>\n",
       "    </tr>\n",
       "    <tr>\n",
       "      <th>34</th>\n",
       "      <td>debit_count_may</td>\n",
       "      <td>Total number of times amount debited in May</td>\n",
       "    </tr>\n",
       "    <tr>\n",
       "      <th>35</th>\n",
       "      <td>max_credit_amount_may</td>\n",
       "      <td>Maximum amount credited in May</td>\n",
       "    </tr>\n",
       "    <tr>\n",
       "      <th>36</th>\n",
       "      <td>debit_amount_jun</td>\n",
       "      <td>Total amount debited for June</td>\n",
       "    </tr>\n",
       "    <tr>\n",
       "      <th>37</th>\n",
       "      <td>credit_amount_jun</td>\n",
       "      <td>Total amount credited for June</td>\n",
       "    </tr>\n",
       "    <tr>\n",
       "      <th>38</th>\n",
       "      <td>credit_count_jun</td>\n",
       "      <td>Total number of times amount credited in June</td>\n",
       "    </tr>\n",
       "    <tr>\n",
       "      <th>39</th>\n",
       "      <td>debit_count_jun</td>\n",
       "      <td>Total number of times amount debited in June</td>\n",
       "    </tr>\n",
       "    <tr>\n",
       "      <th>40</th>\n",
       "      <td>max_credit_amount_jun</td>\n",
       "      <td>Maximum amount credited in June</td>\n",
       "    </tr>\n",
       "    <tr>\n",
       "      <th>41</th>\n",
       "      <td>loan_enq</td>\n",
       "      <td>Loan enquiry in last 3 months</td>\n",
       "    </tr>\n",
       "    <tr>\n",
       "      <th>42</th>\n",
       "      <td>emi_active</td>\n",
       "      <td>Monthly EMI paid to other bank for active loans</td>\n",
       "    </tr>\n",
       "    <tr>\n",
       "      <th>43</th>\n",
       "      <td>cc_cons</td>\n",
       "      <td>(Target) Average Credit Card Spend in next thr...</td>\n",
       "    </tr>\n",
       "  </tbody>\n",
       "</table>\n",
       "</div>"
      ],
      "text/plain": [
       "                 Variable                                        Description\n",
       "0                      id                       Unique ID for every Customer\n",
       "1            account_type                   Account Type – current or saving\n",
       "2                  gender                                 Gender of customer\n",
       "3                     age                                    Age of customer\n",
       "4             region_code   Code assigned to region of residence (has order)\n",
       "5             cc_cons_apr                         Credit card spend in April\n",
       "6             dc_cons_apr                          Debit card spend in April\n",
       "7             cc_cons_may                           Credit card spend in May\n",
       "8             dc_cons_may                            Debit card spend in May\n",
       "9             cc_cons_jun                          Credit card spend in June\n",
       "10            dc_cons_jun                           Debit card spend in June\n",
       "11           cc_count_apr        Number of credit card transactions in April\n",
       "12           cc_count_may          Number of credit card transactions in May\n",
       "13           cc_count_jun         Number of credit card transactions in June\n",
       "14           dc_count_apr         Number of debit card transactions in April\n",
       "15           dc_count_may           Number of debit card transactions in May\n",
       "16           dc_count_jun          Number of debit card transactions in June\n",
       "17               card_lim                Maximum Credit Card Limit allocated\n",
       "18   personal_loan_active               Active personal loan with other bank\n",
       "19    vehicle_loan_active                Active Vehicle loan with other bank\n",
       "20   personal_loan_closed             Closed personal loan in last 12 months\n",
       "21    vehicle_loan_closed              Closed vehicle loan in last 12 months\n",
       "22           investment_1                           DEMAT investment in june\n",
       "23           investment_2                   fixed deposit investment in june\n",
       "24           investment_3                  Life Insurance investment in June\n",
       "25           investment_4               General Insurance Investment in June\n",
       "26       debit_amount_apr                     Total amount debited for April\n",
       "27      credit_amount_apr                    Total amount credited for April\n",
       "28        debit_count_apr      Total number of times amount debited in april\n",
       "29       credit_count_apr     Total number of times amount credited in april\n",
       "30  max_credit_amount_apr                   Maximum amount credited in April\n",
       "31       debit_amount_may                       Total amount debited for May\n",
       "32      credit_amount_may                      Total amount credited for May\n",
       "33       credit_count_may       Total number of times amount credited in May\n",
       "34        debit_count_may        Total number of times amount debited in May\n",
       "35  max_credit_amount_may                     Maximum amount credited in May\n",
       "36       debit_amount_jun                      Total amount debited for June\n",
       "37      credit_amount_jun                     Total amount credited for June\n",
       "38       credit_count_jun      Total number of times amount credited in June\n",
       "39        debit_count_jun       Total number of times amount debited in June\n",
       "40  max_credit_amount_jun                    Maximum amount credited in June\n",
       "41               loan_enq                      Loan enquiry in last 3 months\n",
       "42             emi_active    Monthly EMI paid to other bank for active loans\n",
       "43                cc_cons  (Target) Average Credit Card Spend in next thr..."
      ]
     },
     "execution_count": 11,
     "metadata": {},
     "output_type": "execute_result"
    }
   ],
   "source": [
    "file_info=pd.read_excel('Data/Data_Dictionary.xlsx')\n",
    "file_info"
   ]
  },
  {
   "cell_type": "code",
   "execution_count": 12,
   "metadata": {
    "colab": {
     "base_uri": "https://localhost:8080/",
     "height": 34
    },
    "colab_type": "code",
    "id": "756WS7QLntdG",
    "outputId": "ac796ab3-e581-476b-b2f8-96c9324f9b8a"
   },
   "outputs": [
    {
     "data": {
      "text/plain": [
       "(32820, 44)"
      ]
     },
     "execution_count": 12,
     "metadata": {},
     "output_type": "execute_result"
    }
   ],
   "source": [
    "file.shape"
   ]
  },
  {
   "cell_type": "code",
   "execution_count": 13,
   "metadata": {
    "colab": {},
    "colab_type": "code",
    "id": "P_FCdBtZrVAF"
   },
   "outputs": [
    {
     "name": "stdout",
     "output_type": "stream",
     "text": [
      "M    28106\n",
      "F     4714\n",
      "Name: gender, dtype: int64\n"
     ]
    },
    {
     "data": {
      "image/png": "[encoded data removed]",
      "text/plain": [
       "<Figure size 432x288 with 1 Axes>"
      ]
     },
     "metadata": {
      "needs_background": "light"
     },
     "output_type": "display_data"
    }
   ],
   "source": [
    "# To check gender counts.\n",
    "Ge_count=file.iloc[:,2].value_counts()\n",
    "print(Ge_count)\n",
    "barlist=Ge_count.plot(kind='bar')\n",
    "#barlist.set_color('r')\n",
    "plt.title('total male and female consumer')\n",
    "plt.legend()\n",
    "plt.grid()\n",
    "plt.show()"
   ]
  },
  {
   "cell_type": "markdown",
   "metadata": {},
   "source": [
    "FRom above bar Graph, it is obeserved :\n",
    "* female customer's account is too low as compared to Male customer."
   ]
  },
  {
   "cell_type": "markdown",
   "metadata": {},
   "source": [
    "#### Mean, Variance and Std-dev"
   ]
  },
  {
   "cell_type": "code",
   "execution_count": 14,
   "metadata": {},
   "outputs": [
    {
     "name": "stdout",
     "output_type": "stream",
     "text": [
      "<class 'pandas.core.frame.DataFrame'>\n",
      "RangeIndex: 32820 entries, 0 to 32819\n",
      "Data columns (total 44 columns):\n",
      "id                       32820 non-null int64\n",
      "account_type             32820 non-null object\n",
      "gender                   32820 non-null object\n",
      "age                      32820 non-null int64\n",
      "region_code              32820 non-null int64\n",
      "cc_cons_apr              32820 non-null float64\n",
      "dc_cons_apr              13768 non-null float64\n",
      "cc_cons_may              32820 non-null float64\n",
      "dc_cons_may              15481 non-null float64\n",
      "cc_cons_jun              32820 non-null float64\n",
      "dc_cons_jun              11523 non-null float64\n",
      "cc_count_apr             30421 non-null float64\n",
      "cc_count_may             31667 non-null float64\n",
      "cc_count_jun             31230 non-null float64\n",
      "dc_count_apr             13768 non-null float64\n",
      "dc_count_may             15481 non-null float64\n",
      "dc_count_jun             17323 non-null float64\n",
      "card_lim                 32811 non-null float64\n",
      "personal_loan_active     2742 non-null float64\n",
      "vehicle_loan_active      846 non-null float64\n",
      "personal_loan_closed     2883 non-null float64\n",
      "vehicle_loan_closed      1625 non-null float64\n",
      "investment_1             1426 non-null float64\n",
      "investment_2             2338 non-null float64\n",
      "investment_3             1332 non-null float64\n",
      "investment_4             406 non-null float64\n",
      "debit_amount_apr         30930 non-null float64\n",
      "credit_amount_apr        29518 non-null float64\n",
      "debit_count_apr          31062 non-null float64\n",
      "credit_count_apr         31062 non-null float64\n",
      "max_credit_amount_apr    29518 non-null float64\n",
      "debit_amount_may         30519 non-null float64\n",
      "credit_amount_may        29415 non-null float64\n",
      "credit_count_may         30749 non-null float64\n",
      "debit_count_may          30749 non-null float64\n",
      "max_credit_amount_may    29415 non-null float64\n",
      "debit_amount_jun         30625 non-null float64\n",
      "credit_amount_jun        31277 non-null float64\n",
      "credit_count_jun         31292 non-null float64\n",
      "debit_count_jun          31292 non-null float64\n",
      "max_credit_amount_jun    31277 non-null float64\n",
      "loan_enq                 609 non-null object\n",
      "emi_active               32820 non-null float64\n",
      "cc_cons                  32820 non-null int64\n",
      "dtypes: float64(37), int64(4), object(3)\n",
      "memory usage: 11.0+ MB\n",
      "None\n",
      "                 id           age   region_code    cc_cons_apr    dc_cons_apr  \\\n",
      "count  32820.000000  32820.000000  32820.000000   32820.000000   13768.000000   \n",
      "mean   23450.929616     35.951676    554.854327   16661.907189    5727.615837   \n",
      "std    13495.676061      8.529949    188.220317   25138.435416   11544.058014   \n",
      "min        0.000000     22.000000    123.000000     233.970000      10.010000   \n",
      "25%    11824.750000     31.000000    425.000000    3712.000000     849.000000   \n",
      "50%    23478.500000     34.000000    575.000000    8912.790000    2282.160000   \n",
      "75%    35096.250000     39.000000    683.000000   19932.060000    6074.600000   \n",
      "max    46886.000000    224.000000    977.000000  804712.580000  366223.160000   \n",
      "\n",
      "        cc_cons_may    dc_cons_may    cc_cons_jun    dc_cons_jun  \\\n",
      "count  3.282000e+04   15481.000000   32820.000000   11523.000000   \n",
      "mean   1.441190e+04    5635.506904    9031.179889    4666.713420   \n",
      "std    2.363688e+04   14052.343253   15720.847307   10265.189742   \n",
      "min    1.030000e+02      20.000000      51.000000      23.000000   \n",
      "25%    2.983298e+03     796.000000    1637.875000     743.000000   \n",
      "50%    7.332298e+03    2129.000000    4147.487500    1832.000000   \n",
      "75%    1.684785e+04    5640.000000   10126.250000    4607.500000   \n",
      "max    1.117246e+06  911223.490000  382914.100000  301991.940000   \n",
      "\n",
      "       cc_count_apr      ...        credit_count_may  debit_count_may  \\\n",
      "count  30421.000000      ...            30749.000000     30749.000000   \n",
      "mean       9.162191      ...                4.087352        13.934795   \n",
      "std       10.790714      ...                3.847766        11.455178   \n",
      "min        1.000000      ...                0.000000         0.000000   \n",
      "25%        3.000000      ...                2.000000         6.000000   \n",
      "50%        7.000000      ...                3.000000        11.000000   \n",
      "75%       12.000000      ...                5.000000        19.000000   \n",
      "max     1012.000000      ...               71.000000       171.000000   \n",
      "\n",
      "       max_credit_amount_may  debit_amount_jun  credit_amount_jun  \\\n",
      "count           2.941500e+04      3.062500e+04       3.127700e+04   \n",
      "mean            4.969688e+04      7.759673e+04       7.583531e+04   \n",
      "std             1.287256e+05      3.140103e+05       3.062791e+05   \n",
      "min             1.500000e-01      5.230000e+00       1.188000e+01   \n",
      "25%             1.817300e+04      2.509642e+04       2.306400e+04   \n",
      "50%             3.000000e+04      4.593499e+04       4.295500e+04   \n",
      "75%             5.000000e+04      8.413612e+04       8.072400e+04   \n",
      "max             1.285103e+07      3.986881e+07       3.933931e+07   \n",
      "\n",
      "       credit_count_jun  debit_count_jun  max_credit_amount_jun    emi_active  \\\n",
      "count      31292.000000     31292.000000           3.127700e+04  3.282000e+04   \n",
      "mean           5.767736        16.001438           4.474355e+04  9.567620e+03   \n",
      "std            4.704716        13.370195           1.215379e+05  2.616736e+05   \n",
      "min            0.000000         0.000000           6.000000e-02  0.000000e+00   \n",
      "25%            3.000000         6.000000           1.600000e+04  0.000000e+00   \n",
      "50%            5.000000        13.000000           2.687600e+04  1.510650e+02   \n",
      "75%            7.000000        22.000000           4.701000e+04  4.176868e+03   \n",
      "max          117.000000       164.000000           1.293238e+07  4.468722e+07   \n",
      "\n",
      "             cc_cons  \n",
      "count   32820.000000  \n",
      "mean     6824.631840  \n",
      "std     12459.140593  \n",
      "min         0.000000  \n",
      "25%      1285.000000  \n",
      "50%      3141.000000  \n",
      "75%      7349.250000  \n",
      "max    408630.000000  \n",
      "\n",
      "[8 rows x 41 columns]\n"
     ]
    }
   ],
   "source": [
    "# Mean, Variance and Std-dev with simple command\n",
    "print(file.info())# information about data\n",
    "print(file.describe())# df12.describe() is used to calculate count,mean,varience,\n",
    "# standard deviations,mimimum ,maximum vaue and 25,50,75 percentile."
   ]
  },
  {
   "cell_type": "code",
   "execution_count": 15,
   "metadata": {},
   "outputs": [],
   "source": [
    "# Arraging "
   ]
  },
  {
   "cell_type": "code",
   "execution_count": 16,
   "metadata": {},
   "outputs": [
    {
     "name": "stdout",
     "output_type": "stream",
     "text": [
      "x_train (24615, 3)\n",
      "x_test (8205, 3)\n",
      "y_train (24615,)\n",
      "y_test (8205,)\n"
     ]
    }
   ],
   "source": [
    "from sklearn.model_selection import train_test_split\n",
    "train , test = train_test_split(file3, test_size = 0.25)\n",
    "\n",
    "x_train = train.drop(['id','cc_cons'], axis=1)\n",
    "y_train = train['cc_cons']\n",
    "\n",
    "x_test = test.drop(['id','cc_cons'], axis = 1)\n",
    "y_test = test['cc_cons']\n",
    "print(\"x_train\",x_train.shape)\n",
    "print(\"x_test\",x_test.shape)\n",
    "print(\"y_train\",y_train.shape)\n",
    "print(\"y_test\",y_test.shape)"
   ]
  },
  {
   "cell_type": "code",
   "execution_count": 17,
   "metadata": {},
   "outputs": [],
   "source": [
    "from sklearn.preprocessing import MinMaxScaler\n",
    "scaler = MinMaxScaler(feature_range=(0, 1))\n",
    "\n",
    "x_train_scaled = scaler.fit_transform(x_train)\n",
    "x_train = pd.DataFrame(x_train_scaled)\n",
    "\n",
    "x_test_scaled = scaler.fit_transform(x_test)\n",
    "x_test = pd.DataFrame(x_test_scaled)"
   ]
  },
  {
   "cell_type": "code",
   "execution_count": 18,
   "metadata": {},
   "outputs": [],
   "source": [
    "#import required packages\n",
    "from sklearn import neighbors\n",
    "from sklearn.metrics import mean_squared_error \n",
    "from sklearn.metrics import mean_squared_log_error\n",
    "from math import sqrt\n",
    "import matplotlib.pyplot as plt\n",
    "%matplotlib inline"
   ]
  },
  {
   "cell_type": "code",
   "execution_count": 19,
   "metadata": {},
   "outputs": [
    {
     "name": "stdout",
     "output_type": "stream",
     "text": [
      "RMSE value for k=  1 is: 1.691496467198493\n",
      "RMSE value for k=  2 is: 1.5691654090136007\n",
      "RMSE value for k=  3 is: 1.545635174466918\n",
      "RMSE value for k=  4 is: 1.5378206071662541\n",
      "RMSE value for k=  5 is: 1.5343680581186048\n",
      "RMSE value for k=  6 is: 1.5346359901824713\n",
      "RMSE value for k=  7 is: 1.5342479295147025\n",
      "RMSE value for k=  8 is: 1.5318429029355691\n",
      "RMSE value for k=  9 is: 1.530956072290802\n",
      "RMSE value for k=  10 is: 1.5328648535959222\n",
      "RMSE value for k=  11 is: 1.530941646716847\n",
      "RMSE value for k=  12 is: 1.5288272023795837\n",
      "RMSE value for k=  13 is: 1.5277774083983464\n",
      "RMSE value for k=  14 is: 1.526027498893162\n",
      "RMSE value for k=  15 is: 1.524711858391145\n",
      "RMSE value for k=  16 is: 1.5243736476454977\n",
      "RMSE value for k=  17 is: 1.522944811969853\n",
      "RMSE value for k=  18 is: 1.5217095326824115\n",
      "RMSE value for k=  19 is: 1.522261321486959\n",
      "RMSE value for k=  20 is: 1.522501428254939\n"
     ]
    }
   ],
   "source": [
    "rmse_val = [] #to store rmse values for different k\n",
    "for K in range(20):\n",
    "    K = K+1\n",
    "    model = neighbors.KNeighborsRegressor(n_neighbors = K)\n",
    "\n",
    "    model.fit(x_train, y_train)  #fit the model\n",
    "    pred=model.predict(x_test) #make prediction on test set\n",
    "    error = sqrt(mean_squared_log_error(y_test,pred)) #calculate rmse\n",
    "    rmse_val.append(error) #store rmse values\n",
    "    print('RMSE value for k= ' , K , 'is:', error)"
   ]
  },
  {
   "cell_type": "code",
   "execution_count": 20,
   "metadata": {},
   "outputs": [
    {
     "data": {
      "text/plain": [
       "<matplotlib.axes._subplots.AxesSubplot at 0x7fee8c3ad438>"
      ]
     },
     "execution_count": 20,
     "metadata": {},
     "output_type": "execute_result"
    },
    {
     "data": {
      "image/png": "[encoded data removed]",
      "text/plain": [
       "<Figure size 432x288 with 1 Axes>"
      ]
     },
     "metadata": {
      "needs_background": "light"
     },
     "output_type": "display_data"
    }
   ],
   "source": [
    "#plotting the rmse values against k values\n",
    "%matplotlib inline\n",
    "curve = pd.DataFrame(rmse_val) #elbow curve \n",
    "curve.plot()"
   ]
  },
  {
   "cell_type": "code",
   "execution_count": 21,
   "metadata": {},
   "outputs": [
    {
     "name": "stdout",
     "output_type": "stream",
     "text": [
      "best optimal_k {'n_neighbors': 19}\n"
     ]
    }
   ],
   "source": [
    "from sklearn.model_selection import GridSearchCV\n",
    "params = {'n_neighbors':[2,3,4,5,6,7,8,9,11,13,15,17,19,21]}\n",
    "\n",
    "knn = neighbors.KNeighborsRegressor()\n",
    "\n",
    "model = GridSearchCV(knn, params, cv=5)\n",
    "model.fit(x_train,y_train)\n",
    "optimal_k=model.best_params_\n",
    "print(\"best optimal_k\", optimal_k)"
   ]
  },
  {
   "cell_type": "code",
   "execution_count": 22,
   "metadata": {},
   "outputs": [
    {
     "data": {
      "text/plain": [
       "19"
      ]
     },
     "execution_count": 22,
     "metadata": {},
     "output_type": "execute_result"
    }
   ],
   "source": [
    "k=list(optimal_k.values())\n",
    "k[0]"
   ]
  },
  {
   "cell_type": "code",
   "execution_count": 23,
   "metadata": {},
   "outputs": [
    {
     "name": "stdout",
     "output_type": "stream",
     "text": [
      "id                0\n",
      "cc_cons_apr       0\n",
      "cc_cons_may       1\n",
      "cc_cons_jun       1\n",
      "cc_cons        6538\n",
      "dtype: int64\n",
      "id             0\n",
      "cc_cons_apr    0\n",
      "cc_cons_may    0\n",
      "cc_cons_jun    0\n",
      "cc_cons        0\n",
      "dtype: int64\n"
     ]
    },
    {
     "name": "stderr",
     "output_type": "stream",
     "text": [
      "/opt/app-root/lib/python3.6/site-packages/pandas/core/indexing.py:1472: FutureWarning: \n",
      "Passing list-likes to .loc or [] with any missing label will raise\n",
      "KeyError in the future, you can use .reindex() as an alternative.\n",
      "\n",
      "See the documentation here:\n",
      "https://pandas.pydata.org/pandas-docs/stable/indexing.html#deprecate-loc-reindex-listlike\n",
      "  return self._getitem_tuple(key)\n"
     ]
    }
   ],
   "source": [
    "#reading test and submission files\n",
    "test = pd.read_csv('test.csv')\n",
    "test=test.loc[:,['id','cc_cons_apr','cc_cons_may','cc_cons_jun','cc_cons']]\n",
    "print(test.isnull().sum())\n",
    "mean = test['cc_cons_may'].mean() #imputing cc_cons_may with mean\n",
    "test['cc_cons'].fillna(0, inplace =True)\n",
    "test['cc_cons_may'].fillna(mean, inplace =True)\n",
    "mean1 = test['cc_cons_jun'].mean() #imputing cc_cons_may with mean\n",
    "test['cc_cons_jun'].fillna(mean1, inplace =True)\n",
    "\n",
    "print(test.isnull().sum())"
   ]
  },
  {
   "cell_type": "code",
   "execution_count": 24,
   "metadata": {},
   "outputs": [
    {
     "name": "stdout",
     "output_type": "stream",
     "text": [
      "(14067, 2)\n",
      "(6538, 5)\n",
      "(14067, 2)\n"
     ]
    }
   ],
   "source": [
    "submission = pd.read_csv('SampleSubmission.csv')\n",
    "print(submission.shape)\n",
    "print(test.shape)\n",
    "#submission=submission[0:len(test)]\n",
    "submission['id'][0:len(test)]= test['id']\n",
    "submission['cc_cons'] = test['cc_cons']\n",
    "print(submission.shape)"
   ]
  },
  {
   "cell_type": "code",
   "execution_count": 25,
   "metadata": {},
   "outputs": [
    {
     "data": {
      "text/html": [
       "<div>\n",
       "<style scoped>\n",
       "    .dataframe tbody tr th:only-of-type {\n",
       "        vertical-align: middle;\n",
       "    }\n",
       "\n",
       "    .dataframe tbody tr th {\n",
       "        vertical-align: top;\n",
       "    }\n",
       "\n",
       "    .dataframe thead th {\n",
       "        text-align: right;\n",
       "    }\n",
       "</style>\n",
       "<table border=\"1\" class=\"dataframe\">\n",
       "  <thead>\n",
       "    <tr style=\"text-align: right;\">\n",
       "      <th></th>\n",
       "      <th>id</th>\n",
       "      <th>cc_cons_apr</th>\n",
       "      <th>cc_cons_may</th>\n",
       "      <th>cc_cons_jun</th>\n",
       "      <th>cc_cons</th>\n",
       "    </tr>\n",
       "  </thead>\n",
       "  <tbody>\n",
       "    <tr>\n",
       "      <th>0</th>\n",
       "      <td>6975</td>\n",
       "      <td>17942.70</td>\n",
       "      <td>1656.00</td>\n",
       "      <td>4551.00</td>\n",
       "      <td>0.0</td>\n",
       "    </tr>\n",
       "    <tr>\n",
       "      <th>1</th>\n",
       "      <td>43223</td>\n",
       "      <td>44870.36</td>\n",
       "      <td>34177.00</td>\n",
       "      <td>25889.21</td>\n",
       "      <td>0.0</td>\n",
       "    </tr>\n",
       "    <tr>\n",
       "      <th>2</th>\n",
       "      <td>45502</td>\n",
       "      <td>1073.00</td>\n",
       "      <td>4141.00</td>\n",
       "      <td>6740.29</td>\n",
       "      <td>0.0</td>\n",
       "    </tr>\n",
       "    <tr>\n",
       "      <th>3</th>\n",
       "      <td>12368</td>\n",
       "      <td>33060.58</td>\n",
       "      <td>3797.12</td>\n",
       "      <td>291.00</td>\n",
       "      <td>0.0</td>\n",
       "    </tr>\n",
       "    <tr>\n",
       "      <th>4</th>\n",
       "      <td>40415</td>\n",
       "      <td>18236.90</td>\n",
       "      <td>30513.30</td>\n",
       "      <td>20395.28</td>\n",
       "      <td>0.0</td>\n",
       "    </tr>\n",
       "  </tbody>\n",
       "</table>\n",
       "</div>"
      ],
      "text/plain": [
       "      id  cc_cons_apr  cc_cons_may  cc_cons_jun  cc_cons\n",
       "0   6975     17942.70      1656.00      4551.00      0.0\n",
       "1  43223     44870.36     34177.00     25889.21      0.0\n",
       "2  45502      1073.00      4141.00      6740.29      0.0\n",
       "3  12368     33060.58      3797.12       291.00      0.0\n",
       "4  40415     18236.90     30513.30     20395.28      0.0"
      ]
     },
     "execution_count": 25,
     "metadata": {},
     "output_type": "execute_result"
    }
   ],
   "source": [
    "test.head()"
   ]
  },
  {
   "cell_type": "code",
   "execution_count": 26,
   "metadata": {},
   "outputs": [],
   "source": [
    "test = test.drop(['id','cc_cons'], axis = 1)"
   ]
  },
  {
   "cell_type": "code",
   "execution_count": 27,
   "metadata": {},
   "outputs": [
    {
     "data": {
      "text/html": [
       "<div>\n",
       "<style scoped>\n",
       "    .dataframe tbody tr th:only-of-type {\n",
       "        vertical-align: middle;\n",
       "    }\n",
       "\n",
       "    .dataframe tbody tr th {\n",
       "        vertical-align: top;\n",
       "    }\n",
       "\n",
       "    .dataframe thead th {\n",
       "        text-align: right;\n",
       "    }\n",
       "</style>\n",
       "<table border=\"1\" class=\"dataframe\">\n",
       "  <thead>\n",
       "    <tr style=\"text-align: right;\">\n",
       "      <th></th>\n",
       "      <th>id</th>\n",
       "      <th>cc_cons</th>\n",
       "    </tr>\n",
       "  </thead>\n",
       "  <tbody>\n",
       "    <tr>\n",
       "      <th>0</th>\n",
       "      <td>6975</td>\n",
       "      <td>0.0</td>\n",
       "    </tr>\n",
       "    <tr>\n",
       "      <th>1</th>\n",
       "      <td>43223</td>\n",
       "      <td>0.0</td>\n",
       "    </tr>\n",
       "    <tr>\n",
       "      <th>2</th>\n",
       "      <td>45502</td>\n",
       "      <td>0.0</td>\n",
       "    </tr>\n",
       "    <tr>\n",
       "      <th>3</th>\n",
       "      <td>12368</td>\n",
       "      <td>0.0</td>\n",
       "    </tr>\n",
       "    <tr>\n",
       "      <th>4</th>\n",
       "      <td>40415</td>\n",
       "      <td>0.0</td>\n",
       "    </tr>\n",
       "  </tbody>\n",
       "</table>\n",
       "</div>"
      ],
      "text/plain": [
       "      id  cc_cons\n",
       "0   6975      0.0\n",
       "1  43223      0.0\n",
       "2  45502      0.0\n",
       "3  12368      0.0\n",
       "4  40415      0.0"
      ]
     },
     "execution_count": 27,
     "metadata": {},
     "output_type": "execute_result"
    }
   ],
   "source": [
    "submission.head()"
   ]
  },
  {
   "cell_type": "code",
   "execution_count": 28,
   "metadata": {},
   "outputs": [
    {
     "data": {
      "text/plain": [
       "(6538, 3)"
      ]
     },
     "execution_count": 28,
     "metadata": {},
     "output_type": "execute_result"
    }
   ],
   "source": [
    "from sklearn.impute import SimpleImputer\n",
    "imp = SimpleImputer(missing_values=np.nan, strategy='median')\n",
    "imp.fit(test)\n",
    "test=imp.transform(test)\n",
    "test.shape"
   ]
  },
  {
   "cell_type": "code",
   "execution_count": 29,
   "metadata": {},
   "outputs": [
    {
     "name": "stdout",
     "output_type": "stream",
     "text": [
      "(32820, 3) (32820,)\n"
     ]
    }
   ],
   "source": [
    "x_train = file3.drop(['id','cc_cons'], axis=1)\n",
    "x_train=x_train.replace(np.nan,0)\n",
    "y_train = file3['cc_cons']\n",
    "y_train=y_train.replace(np.nan,0)\n",
    "x_train_scaled = scaler.fit_transform(x_train)\n",
    "x_train = pd.DataFrame(x_train_scaled)\n",
    "print(x_train.shape,y_train.shape)"
   ]
  },
  {
   "cell_type": "code",
   "execution_count": 30,
   "metadata": {},
   "outputs": [
    {
     "name": "stdout",
     "output_type": "stream",
     "text": [
      "(6538, 3)\n"
     ]
    }
   ],
   "source": [
    "#test\n",
    "#preprocessing test dataset\n",
    "\n",
    "test_scaled = scaler.fit_transform(test)\n",
    "test = pd.DataFrame(test_scaled)\n",
    "print(test.shape)"
   ]
  },
  {
   "cell_type": "code",
   "execution_count": 31,
   "metadata": {},
   "outputs": [],
   "source": [
    "\n",
    "model = neighbors.KNeighborsRegressor(n_neighbors = k[0])\n",
    "\n",
    "model.fit(x_train, y_train)  #fit the model\n",
    "pred=model.predict(test) #make prediction on test set\n",
    "#error = sqrt(mean_squared_log_error(y_test,pred)) #calculate rmse\n",
    "#rmse_val.append(error) #store rmse values\n",
    "#print('RMSLE value for k= ' , k[0] , 'is:', error)"
   ]
  },
  {
   "cell_type": "code",
   "execution_count": 32,
   "metadata": {},
   "outputs": [
    {
     "data": {
      "text/html": [
       "<div>\n",
       "<style scoped>\n",
       "    .dataframe tbody tr th:only-of-type {\n",
       "        vertical-align: middle;\n",
       "    }\n",
       "\n",
       "    .dataframe tbody tr th {\n",
       "        vertical-align: top;\n",
       "    }\n",
       "\n",
       "    .dataframe thead th {\n",
       "        text-align: right;\n",
       "    }\n",
       "</style>\n",
       "<table border=\"1\" class=\"dataframe\">\n",
       "  <thead>\n",
       "    <tr style=\"text-align: right;\">\n",
       "      <th></th>\n",
       "      <th>id</th>\n",
       "      <th>cc_cons</th>\n",
       "    </tr>\n",
       "  </thead>\n",
       "  <tbody>\n",
       "    <tr>\n",
       "      <th>0</th>\n",
       "      <td>6975</td>\n",
       "      <td>0.0</td>\n",
       "    </tr>\n",
       "    <tr>\n",
       "      <th>1</th>\n",
       "      <td>43223</td>\n",
       "      <td>0.0</td>\n",
       "    </tr>\n",
       "    <tr>\n",
       "      <th>2</th>\n",
       "      <td>45502</td>\n",
       "      <td>0.0</td>\n",
       "    </tr>\n",
       "    <tr>\n",
       "      <th>3</th>\n",
       "      <td>12368</td>\n",
       "      <td>0.0</td>\n",
       "    </tr>\n",
       "    <tr>\n",
       "      <th>4</th>\n",
       "      <td>40415</td>\n",
       "      <td>0.0</td>\n",
       "    </tr>\n",
       "  </tbody>\n",
       "</table>\n",
       "</div>"
      ],
      "text/plain": [
       "      id  cc_cons\n",
       "0   6975      0.0\n",
       "1  43223      0.0\n",
       "2  45502      0.0\n",
       "3  12368      0.0\n",
       "4  40415      0.0"
      ]
     },
     "execution_count": 32,
     "metadata": {},
     "output_type": "execute_result"
    }
   ],
   "source": [
    "submission.head()"
   ]
  },
  {
   "cell_type": "code",
   "execution_count": 33,
   "metadata": {},
   "outputs": [],
   "source": [
    "#test.head()"
   ]
  },
  {
   "cell_type": "code",
   "execution_count": 34,
   "metadata": {},
   "outputs": [
    {
     "name": "stderr",
     "output_type": "stream",
     "text": [
      "/opt/app-root/lib/python3.6/site-packages/ipykernel_launcher.py:4: SettingWithCopyWarning: \n",
      "A value is trying to be set on a copy of a slice from a DataFrame\n",
      "\n",
      "See the caveats in the documentation: http://pandas.pydata.org/pandas-docs/stable/indexing.html#indexing-view-versus-copy\n",
      "  after removing the cwd from sys.path.\n",
      "/opt/app-root/lib/python3.6/site-packages/ipykernel_launcher.py:5: SettingWithCopyWarning: \n",
      "A value is trying to be set on a copy of a slice from a DataFrame\n",
      "\n",
      "See the caveats in the documentation: http://pandas.pydata.org/pandas-docs/stable/indexing.html#indexing-view-versus-copy\n",
      "  \"\"\"\n"
     ]
    }
   ],
   "source": [
    "\n",
    "#predicting on the test set and creating submission file\n",
    "#predict = model.predict(test)\n",
    "from statistics import median \n",
    "submission['cc_cons'][0:len(test)] = pred\n",
    "submission['cc_cons'][len(test):len(submission)] =median(pred)\n",
    "submission.to_csv('submit_file.csv',index=False)\n"
   ]
  },
  {
   "cell_type": "code",
   "execution_count": 35,
   "metadata": {},
   "outputs": [
    {
     "name": "stdout",
     "output_type": "stream",
     "text": [
      "6086.763157894737\n"
     ]
    }
   ],
   "source": [
    "\n",
    "print(median(pred))"
   ]
  },
  {
   "cell_type": "code",
   "execution_count": null,
   "metadata": {},
   "outputs": [],
   "source": []
  },
  {
   "cell_type": "code",
   "execution_count": null,
   "metadata": {},
   "outputs": [],
   "source": []
  },
  {
   "cell_type": "code",
   "execution_count": null,
   "metadata": {},
   "outputs": [],
   "source": []
  },
  {
   "cell_type": "code",
   "execution_count": null,
   "metadata": {},
   "outputs": [],
   "source": []
  },
  {
   "cell_type": "code",
   "execution_count": null,
   "metadata": {},
   "outputs": [],
   "source": []
  },
  {
   "cell_type": "code",
   "execution_count": null,
   "metadata": {},
   "outputs": [],
   "source": []
  },
  {
   "cell_type": "code",
   "execution_count": null,
   "metadata": {},
   "outputs": [],
   "source": []
  },
  {
   "cell_type": "code",
   "execution_count": null,
   "metadata": {},
   "outputs": [],
   "source": []
  },
  {
   "cell_type": "code",
   "execution_count": null,
   "metadata": {},
   "outputs": [],
   "source": []
  },
  {
   "cell_type": "code",
   "execution_count": null,
   "metadata": {},
   "outputs": [],
   "source": []
  },
  {
   "cell_type": "code",
   "execution_count": null,
   "metadata": {},
   "outputs": [],
   "source": []
  },
  {
   "cell_type": "code",
   "execution_count": null,
   "metadata": {},
   "outputs": [],
   "source": []
  },
  {
   "cell_type": "code",
   "execution_count": null,
   "metadata": {},
   "outputs": [],
   "source": []
  },
  {
   "cell_type": "code",
   "execution_count": null,
   "metadata": {},
   "outputs": [],
   "source": []
  },
  {
   "cell_type": "code",
   "execution_count": null,
   "metadata": {},
   "outputs": [],
   "source": []
  },
  {
   "cell_type": "code",
   "execution_count": null,
   "metadata": {},
   "outputs": [],
   "source": []
  },
  {
   "cell_type": "code",
   "execution_count": null,
   "metadata": {},
   "outputs": [],
   "source": []
  },
  {
   "cell_type": "code",
   "execution_count": null,
   "metadata": {},
   "outputs": [],
   "source": []
  },
  {
   "cell_type": "code",
   "execution_count": null,
   "metadata": {},
   "outputs": [],
   "source": []
  },
  {
   "cell_type": "code",
   "execution_count": null,
   "metadata": {},
   "outputs": [],
   "source": []
  },
  {
   "cell_type": "code",
   "execution_count": null,
   "metadata": {},
   "outputs": [],
   "source": []
  },
  {
   "cell_type": "code",
   "execution_count": null,
   "metadata": {},
   "outputs": [],
   "source": []
  },
  {
   "cell_type": "code",
   "execution_count": null,
   "metadata": {},
   "outputs": [],
   "source": []
  }
 ],
 "metadata": {
  "colab": {
   "collapsed_sections": [],
   "name": "CC_Consumption.ipynb",
   "provenance": [],
   "version": "0.3.2"
  },
  "kernelspec": {
   "display_name": "Python 3",
   "language": "python",
   "name": "python3"
  },
  "language_info": {
   "codemirror_mode": {
    "name": "ipython",
    "version": 3
   },
   "file_extension": ".py",
   "mimetype": "text/x-python",
   "name": "python",
   "nbconvert_exporter": "python",
   "pygments_lexer": "ipython3",
   "version": "3.6.3"
  }
 },
 "nbformat": 4,
 "nbformat_minor": 2
}
